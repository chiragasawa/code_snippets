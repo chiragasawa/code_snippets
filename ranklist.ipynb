{
  "nbformat": 4,
  "nbformat_minor": 0,
  "metadata": {
    "colab": {
      "name": "Untitled1.ipynb",
      "provenance": [],
      "collapsed_sections": [],
      "authorship_tag": "ABX9TyM9+uuInpizkuCjYdk6uGjs",
      "include_colab_link": true
    },
    "kernelspec": {
      "name": "python3",
      "display_name": "Python 3"
    },
    "language_info": {
      "name": "python"
    }
  },
  "cells": [
    {
      "cell_type": "markdown",
      "metadata": {
        "id": "view-in-github",
        "colab_type": "text"
      },
      "source": [
        "<a href=\"https://colab.research.google.com/github/chiragasawa/code_snippets/blob/master/ranklist.ipynb\" target=\"_parent\"><img src=\"https://colab.research.google.com/assets/colab-badge.svg\" alt=\"Open In Colab\"/></a>"
      ]
    },
    {
      "cell_type": "code",
      "metadata": {
        "id": "zvpv3w6M5H_S"
      },
      "source": [
        "import pandas\n",
        "import numpy"
      ],
      "execution_count": 145,
      "outputs": []
    },
    {
      "cell_type": "code",
      "metadata": {
        "id": "dRBOgiaH5Lrp"
      },
      "source": [
        "# ju=pandas.read_csv(\"/content/sample_data/JU RankList.csv\")\n",
        "ju=pandas.read_excel(\"/content/JECRC Code Warriors 2.0 (Responses).xlsx\")\n",
        "\n",
        "# combineList=pandas.read_csv(\"/content/sample_data/combinedranklist.csv\")\n",
        "# jufinal=pandas.read_csv(\"/content/JUFinal.csv\")\n",
        "jufinal=pandas.read_csv(\"/content/ranklist.csv\")\n",
        "\n",
        "sirUserName=list(ju['CodeChef Username'])\n",
        "resultEmail=[]\n",
        "resultRollNo=[]\n",
        "\n",
        "for i in jufinal['User handle']:\n",
        "  if i.strip() in sirUserName:\n",
        "    # df2=(combineList[combineList[\"User handle\"]==i.strip()])\n",
        "    # df2=(ju[ju['CodeChef Username']==i.strip()])\n",
        "    # print(ju[ju['CodeChef Username']==i.strip()][\"Registered Email Id\"])\n",
        "    # jufinal[jufinal['User handle']==i.strip()][\"Email\"]=(ju[ju['CodeChef Username']==i.strip()][\"Registered Email Id\"]).values[0]\n",
        "    resultEmail.append((ju[ju['CodeChef Username']==i.strip()][\"Registered Email Id\"]).values[0])\n",
        "    resultRollNo.append((ju[ju['CodeChef Username']==i.strip()][\"University Roll No.\"]).values[0])\n",
        "    \n",
        "    # jufinal[\"Roll No\"]=(ju[ju['CodeChef Username']==i.strip()][\"University Roll No.\"])\n",
        "  else:\n",
        "    resultEmail.append(\"NaN\")\n",
        "    resultRollNo.append(\"NaN\")\n",
        "jufinal[\"Email\"]=resultEmail\n",
        "jufinal[\"Roll No\"]=resultRollNo\n",
        "\n",
        "#     print(i)\n",
        "#     result.append(df2)\n",
        "# final=pandas.concat(result)\n",
        "\n",
        "# final"
      ],
      "execution_count": 147,
      "outputs": []
    },
    {
      "cell_type": "code",
      "metadata": {
        "id": "lTvApr5f3zjo"
      },
      "source": [
        "# jufinal[\"Email\"]\n",
        "# (ju[ju['CodeChef Username']==\"rishabhjain18\"][\"Registered Email Id\"]).values\n",
        "jufinal.to_excel('finalCombine.xls')"
      ],
      "execution_count": 148,
      "outputs": []
    },
    {
      "cell_type": "code",
      "metadata": {
        "colab": {
          "base_uri": "https://localhost:8080/"
        },
        "id": "10CCuVmF8At-",
        "outputId": "c92c0052-c28c-406f-c153-27488f16cf02"
      },
      "source": [
        "juUserName=ju[\"User Name\"]\n",
        "combineListUserHandle=combineList[\"User handle\"]\n",
        "# for i,j in enumerate(combineListUserHandle):\n",
        "#   combineListUserHandle[i]=j.strip()\n",
        "\n",
        "list(combineListUserHandle).index(\"krishan_21\")\n",
        "# combineListUserHandle"
      ],
      "execution_count": 83,
      "outputs": [
        {
          "output_type": "execute_result",
          "data": {
            "text/plain": [
              "170"
            ]
          },
          "metadata": {
            "tags": []
          },
          "execution_count": 83
        }
      ]
    },
    {
      "cell_type": "code",
      "metadata": {
        "id": "87YxLS_58BXY"
      },
      "source": [
        "result=[]\n",
        "for i in juUserName:\n",
        "  if i.strip() in list(combineListUserHandle):\n",
        "    df2=(combineList[combineList[\"User handle\"]==i.strip()])\n",
        "    # print(df2)\n",
        "    result.append(df2)\n",
        "    # print((combineList[combineList[\"User handle\"]==i.strip()]))\n",
        "    # print(i)"
      ],
      "execution_count": 87,
      "outputs": []
    },
    {
      "cell_type": "code",
      "metadata": {
        "id": "9dNB4KR7ZCLQ"
      },
      "source": [
        "# result=combineList[combineList[\"User handle\"]==\"krishan_21\"]\n",
        "result"
      ],
      "execution_count": null,
      "outputs": []
    },
    {
      "cell_type": "code",
      "metadata": {
        "id": "vawz7TCihOAk"
      },
      "source": [
        "final=pandas.concat(result)"
      ],
      "execution_count": 90,
      "outputs": []
    },
    {
      "cell_type": "code",
      "metadata": {
        "colab": {
          "base_uri": "https://localhost:8080/",
          "height": 35
        },
        "id": "alXloMPi8JTa",
        "outputId": "7feea4cd-ce95-4819-a579-c3628819b0f0"
      },
      "source": [
        "ju[\"User Name\"][0]"
      ],
      "execution_count": 30,
      "outputs": [
        {
          "output_type": "execute_result",
          "data": {
            "application/vnd.google.colaboratory.intrinsic+json": {
              "type": "string"
            },
            "text/plain": [
              "' krishan_21 '"
            ]
          },
          "metadata": {
            "tags": []
          },
          "execution_count": 30
        }
      ]
    },
    {
      "cell_type": "code",
      "metadata": {
        "id": "hnJYZX-uhkhE"
      },
      "source": [
        "final.to_csv(\"JUFinal.csv\")"
      ],
      "execution_count": 91,
      "outputs": []
    },
    {
      "cell_type": "code",
      "metadata": {
        "colab": {
          "base_uri": "https://localhost:8080/",
          "height": 147
        },
        "id": "NDjydY-sB-OM",
        "outputId": "ff852e65-04a0-4781-b165-c2d510ba63d8"
      },
      "source": [
        "result"
      ],
      "execution_count": 78,
      "outputs": [
        {
          "output_type": "execute_result",
          "data": {
            "text/html": [
              "<div>\n",
              "<style scoped>\n",
              "    .dataframe tbody tr th:only-of-type {\n",
              "        vertical-align: middle;\n",
              "    }\n",
              "\n",
              "    .dataframe tbody tr th {\n",
              "        vertical-align: top;\n",
              "    }\n",
              "\n",
              "    .dataframe thead th {\n",
              "        text-align: right;\n",
              "    }\n",
              "</style>\n",
              "<table border=\"1\" class=\"dataframe\">\n",
              "  <thead>\n",
              "    <tr style=\"text-align: right;\">\n",
              "      <th></th>\n",
              "      <th>User handle</th>\n",
              "      <th>Solved count</th>\n",
              "      <th>Score</th>\n",
              "      <th>Total time</th>\n",
              "      <th>Penalty</th>\n",
              "      <th>Country</th>\n",
              "      <th>Country code</th>\n",
              "      <th>Institution id</th>\n",
              "      <th>Institution</th>\n",
              "      <th>Institution type</th>\n",
              "      <th>Keyword suggestions</th>\n",
              "      <th>Name</th>\n",
              "      <th>Rating</th>\n",
              "      <th>Rank</th>\n",
              "      <th>Html handle</th>\n",
              "      <th>FTICTOE</th>\n",
              "      <th>ORPARTY</th>\n",
              "      <th>CHOCBOX</th>\n",
              "    </tr>\n",
              "  </thead>\n",
              "  <tbody>\n",
              "    <tr>\n",
              "      <th>170</th>\n",
              "      <td>krishan_21</td>\n",
              "      <td>3</td>\n",
              "      <td>3</td>\n",
              "      <td>06:26:38</td>\n",
              "      <td>0</td>\n",
              "      <td>India</td>\n",
              "      <td>IN</td>\n",
              "      <td>110677.0</td>\n",
              "      <td>JECRC University</td>\n",
              "      <td>College</td>\n",
              "      <td>jecrcuniversity</td>\n",
              "      <td>Krishan Gopal Joshi</td>\n",
              "      <td>1500</td>\n",
              "      <td>1</td>\n",
              "      <td>&lt;span \\n            class='rating' \\n         ...</td>\n",
              "      <td>1-0-0</td>\n",
              "      <td>1-0-0</td>\n",
              "      <td>1-0-0</td>\n",
              "    </tr>\n",
              "  </tbody>\n",
              "</table>\n",
              "</div>"
            ],
            "text/plain": [
              "    User handle  Solved count  Score  ... FTICTOE  ORPARTY CHOCBOX\n",
              "170  krishan_21             3      3  ...   1-0-0    1-0-0   1-0-0\n",
              "\n",
              "[1 rows x 18 columns]"
            ]
          },
          "metadata": {
            "tags": []
          },
          "execution_count": 78
        }
      ]
    },
    {
      "cell_type": "code",
      "metadata": {
        "id": "sbbk7khtdsi4"
      },
      "source": [
        ""
      ],
      "execution_count": null,
      "outputs": []
    }
  ]
}